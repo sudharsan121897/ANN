{
  "nbformat": 4,
  "nbformat_minor": 0,
  "metadata": {
    "colab": {
      "name": "ANN.ipynb",
      "provenance": []
    },
    "kernelspec": {
      "name": "python3",
      "display_name": "Python 3"
    }
  },
  "cells": [
    {
      "cell_type": "markdown",
      "metadata": {
        "id": "M2oDwhHPpL6G",
        "colab_type": "text"
      },
      "source": [
        "### Importing Libraries"
      ]
    },
    {
      "cell_type": "code",
      "metadata": {
        "id": "kSM1BqlLkDEF",
        "colab_type": "code",
        "colab": {}
      },
      "source": [
        "import numpy as np\n",
        "import pandas as pd\n",
        "import tensorflow as tf"
      ],
      "execution_count": 1,
      "outputs": []
    },
    {
      "cell_type": "code",
      "metadata": {
        "id": "gTl5hWXRk46Y",
        "colab_type": "code",
        "colab": {
          "base_uri": "https://localhost:8080/",
          "height": 35
        },
        "outputId": "3649f1ce-4af0-4e82-c54d-e470328d7733"
      },
      "source": [
        "tf.__version__"
      ],
      "execution_count": 2,
      "outputs": [
        {
          "output_type": "execute_result",
          "data": {
            "application/vnd.google.colaboratory.intrinsic+json": {
              "type": "string"
            },
            "text/plain": [
              "'2.3.0'"
            ]
          },
          "metadata": {
            "tags": []
          },
          "execution_count": 2
        }
      ]
    },
    {
      "cell_type": "markdown",
      "metadata": {
        "id": "pWEojw6Pl5r1",
        "colab_type": "text"
      },
      "source": [
        "### Data Preprocessing"
      ]
    },
    {
      "cell_type": "markdown",
      "metadata": {
        "id": "4_uX9W-kmAm-",
        "colab_type": "text"
      },
      "source": [
        "##### Importing the dataset"
      ]
    },
    {
      "cell_type": "code",
      "metadata": {
        "id": "p-GhvJ4Kk_jh",
        "colab_type": "code",
        "colab": {}
      },
      "source": [
        "df = pd.read_csv('Churn_Modelling.csv')\n",
        "X = df.iloc[:, 3:-1]\n",
        "y = df.iloc[:, -1]"
      ],
      "execution_count": 3,
      "outputs": []
    },
    {
      "cell_type": "markdown",
      "metadata": {
        "id": "oZLvPhuZpQRe",
        "colab_type": "text"
      },
      "source": [
        "### Label Encoding Ordinal features or features with only 2 levels"
      ]
    },
    {
      "cell_type": "code",
      "metadata": {
        "id": "DGjt0d7_m0gy",
        "colab_type": "code",
        "colab": {}
      },
      "source": [
        "from sklearn.preprocessing import LabelEncoder\n",
        "le = LabelEncoder()\n",
        "X['Gender'] = le.fit_transform(X[\"Gender\"])"
      ],
      "execution_count": 4,
      "outputs": []
    },
    {
      "cell_type": "markdown",
      "metadata": {
        "id": "bEKU-Rx6pUYf",
        "colab_type": "text"
      },
      "source": [
        "### One Hot Encoding the Nominal features"
      ]
    },
    {
      "cell_type": "code",
      "metadata": {
        "id": "oFRwxpGznmvg",
        "colab_type": "code",
        "colab": {}
      },
      "source": [
        "# from sklearn.compose import ColumnTransformer\n",
        "# from sklearn.preprocessing import OneHotEncoder\n",
        "# ct = ColumnTransformer(transformers=[('encoder', OneHotEncoder(), [1])], remainder='passthrough')\n",
        "# X = np.array(ct.fit_transform(X))\n",
        "\n",
        "dumm = pd.get_dummies(X['Geography'])\n",
        "\n"
      ],
      "execution_count": 5,
      "outputs": []
    },
    {
      "cell_type": "markdown",
      "metadata": {
        "id": "khHh89x7pghe",
        "colab_type": "text"
      },
      "source": [
        "### If get_dummies method is used, we have to concatenate the actual dataframe and the dataframe with the dummies of the categorical features.\n",
        "\n",
        "### If OneHotEncoder was used, we need not concatenate as it will modify the actual dataframe."
      ]
    },
    {
      "cell_type": "code",
      "metadata": {
        "id": "StfO-nME0SwN",
        "colab_type": "code",
        "colab": {}
      },
      "source": [
        "X = pd.concat([X,dumm],axis = 1)"
      ],
      "execution_count": 7,
      "outputs": []
    },
    {
      "cell_type": "code",
      "metadata": {
        "id": "3upYrzrW0km6",
        "colab_type": "code",
        "colab": {}
      },
      "source": [
        "X = X.drop(\"Geography\",1)"
      ],
      "execution_count": 8,
      "outputs": []
    },
    {
      "cell_type": "markdown",
      "metadata": {
        "id": "q4x3uKsdp7t9",
        "colab_type": "text"
      },
      "source": [
        "### Splitting the data into Train and Test"
      ]
    },
    {
      "cell_type": "code",
      "metadata": {
        "id": "p7O_tCitqsRV",
        "colab_type": "code",
        "colab": {}
      },
      "source": [
        "from sklearn.model_selection import train_test_split\n",
        "X_train, X_test, y_train, y_test = train_test_split(X, y, test_size = 0.2, random_state = 42)"
      ],
      "execution_count": 10,
      "outputs": []
    },
    {
      "cell_type": "markdown",
      "metadata": {
        "id": "aHjTgLVbqAjW",
        "colab_type": "text"
      },
      "source": [
        "### As Neural networks work on the basis of the product of the weights and the actual wegights, it is absolutely mandatory to scale the data."
      ]
    },
    {
      "cell_type": "code",
      "metadata": {
        "id": "_LFG9ZfqrBry",
        "colab_type": "code",
        "colab": {}
      },
      "source": [
        "from sklearn.preprocessing import StandardScaler\n",
        "sc = StandardScaler()\n",
        "X_train = sc.fit_transform(X_train)\n",
        "X_test = sc.transform(X_test)"
      ],
      "execution_count": 11,
      "outputs": []
    },
    {
      "cell_type": "markdown",
      "metadata": {
        "id": "xrNS9rngsCUu",
        "colab_type": "text"
      },
      "source": [
        "### ANN"
      ]
    },
    {
      "cell_type": "markdown",
      "metadata": {
        "id": "ILHJjZYxsFNR",
        "colab_type": "text"
      },
      "source": [
        "##### Initializing ANN with input parameters"
      ]
    },
    {
      "cell_type": "code",
      "metadata": {
        "id": "0PZWTmVz1Zj8",
        "colab_type": "code",
        "colab": {
          "base_uri": "https://localhost:8080/",
          "height": 51
        },
        "outputId": "70e7451b-9766-4214-a0fd-7df28c75e60f"
      },
      "source": [
        "n = int(input(\"Enter number of layers: \"))\n",
        "neuron = int(input(\"Enter the number of neurons per layer: \"))\n",
        "\n",
        "ann = tf.keras.models.Sequential()\n",
        "for i in range(1,n+1):\n",
        "  ann.add(tf.keras.layers.Dense(units = neuron, activation='relu'))\n",
        "\n",
        "ann.add(tf.keras.layers.Dense(units = 1, activation='sigmoid'))\n",
        "\n",
        "ann.compile(optimizer='adam', loss='binary_crossentropy', metrics=['accuracy'])"
      ],
      "execution_count": 12,
      "outputs": [
        {
          "output_type": "stream",
          "text": [
            "Enter number of layers: 5\n",
            "Enter the number of neurons per layer: 6\n"
          ],
          "name": "stdout"
        }
      ]
    },
    {
      "cell_type": "markdown",
      "metadata": {
        "id": "QgzpNuAIqRAx",
        "colab_type": "text"
      },
      "source": [
        "### Defining number of epochs and training the data"
      ]
    },
    {
      "cell_type": "code",
      "metadata": {
        "id": "MxXvxG7tsHHA",
        "colab_type": "code",
        "colab": {
          "base_uri": "https://localhost:8080/",
          "height": 1000
        },
        "outputId": "00e0d5ab-dbf7-4ecc-e383-e483ef4f82ca"
      },
      "source": [
        "epoch = int(input(\"Enter the number of epochs: \"))\n",
        "ann.fit(X_train,y_train, batch_size=32, epochs = epoch)"
      ],
      "execution_count": 13,
      "outputs": [
        {
          "output_type": "stream",
          "text": [
            "Enter the number of epochs: 300\n",
            "Epoch 1/300\n",
            "250/250 [==============================] - 0s 984us/step - loss: 0.4985 - accuracy: 0.7945\n",
            "Epoch 2/300\n",
            "250/250 [==============================] - 0s 1ms/step - loss: 0.4552 - accuracy: 0.7945\n",
            "Epoch 3/300\n",
            "250/250 [==============================] - 0s 1ms/step - loss: 0.4383 - accuracy: 0.8001\n",
            "Epoch 4/300\n",
            "250/250 [==============================] - 0s 1ms/step - loss: 0.4323 - accuracy: 0.8079\n",
            "Epoch 5/300\n",
            "250/250 [==============================] - 0s 987us/step - loss: 0.4277 - accuracy: 0.8129\n",
            "Epoch 6/300\n",
            "250/250 [==============================] - 0s 1ms/step - loss: 0.4255 - accuracy: 0.8161\n",
            "Epoch 7/300\n",
            "250/250 [==============================] - 0s 1ms/step - loss: 0.4225 - accuracy: 0.8189\n",
            "Epoch 8/300\n",
            "250/250 [==============================] - 0s 1ms/step - loss: 0.4208 - accuracy: 0.8217\n",
            "Epoch 9/300\n",
            "250/250 [==============================] - 0s 963us/step - loss: 0.4185 - accuracy: 0.8248\n",
            "Epoch 10/300\n",
            "250/250 [==============================] - 0s 990us/step - loss: 0.4161 - accuracy: 0.8269\n",
            "Epoch 11/300\n",
            "250/250 [==============================] - 0s 1ms/step - loss: 0.4151 - accuracy: 0.8301\n",
            "Epoch 12/300\n",
            "250/250 [==============================] - 0s 1ms/step - loss: 0.4133 - accuracy: 0.8314\n",
            "Epoch 13/300\n",
            "250/250 [==============================] - 0s 1ms/step - loss: 0.4115 - accuracy: 0.8326\n",
            "Epoch 14/300\n",
            "250/250 [==============================] - 0s 1ms/step - loss: 0.4107 - accuracy: 0.8317\n",
            "Epoch 15/300\n",
            "250/250 [==============================] - 0s 1ms/step - loss: 0.4094 - accuracy: 0.8334\n",
            "Epoch 16/300\n",
            "250/250 [==============================] - 0s 1000us/step - loss: 0.4086 - accuracy: 0.8346\n",
            "Epoch 17/300\n",
            "250/250 [==============================] - 0s 974us/step - loss: 0.4077 - accuracy: 0.8359\n",
            "Epoch 18/300\n",
            "250/250 [==============================] - 0s 959us/step - loss: 0.4072 - accuracy: 0.8347\n",
            "Epoch 19/300\n",
            "250/250 [==============================] - 0s 1ms/step - loss: 0.4068 - accuracy: 0.8347\n",
            "Epoch 20/300\n",
            "250/250 [==============================] - 0s 981us/step - loss: 0.4059 - accuracy: 0.8357\n",
            "Epoch 21/300\n",
            "250/250 [==============================] - 0s 1ms/step - loss: 0.4052 - accuracy: 0.8376\n",
            "Epoch 22/300\n",
            "250/250 [==============================] - 0s 989us/step - loss: 0.4045 - accuracy: 0.8369\n",
            "Epoch 23/300\n",
            "250/250 [==============================] - 0s 1ms/step - loss: 0.4034 - accuracy: 0.8360\n",
            "Epoch 24/300\n",
            "250/250 [==============================] - 0s 996us/step - loss: 0.4034 - accuracy: 0.8365\n",
            "Epoch 25/300\n",
            "250/250 [==============================] - 0s 993us/step - loss: 0.4024 - accuracy: 0.8360\n",
            "Epoch 26/300\n",
            "250/250 [==============================] - 0s 1ms/step - loss: 0.4015 - accuracy: 0.8369\n",
            "Epoch 27/300\n",
            "250/250 [==============================] - 0s 1ms/step - loss: 0.4014 - accuracy: 0.8372\n",
            "Epoch 28/300\n",
            "250/250 [==============================] - 0s 973us/step - loss: 0.4008 - accuracy: 0.8376\n",
            "Epoch 29/300\n",
            "250/250 [==============================] - 0s 993us/step - loss: 0.4002 - accuracy: 0.8375\n",
            "Epoch 30/300\n",
            "250/250 [==============================] - 0s 1ms/step - loss: 0.3993 - accuracy: 0.8359\n",
            "Epoch 31/300\n",
            "250/250 [==============================] - 0s 1ms/step - loss: 0.3989 - accuracy: 0.8375\n",
            "Epoch 32/300\n",
            "250/250 [==============================] - 0s 1ms/step - loss: 0.3986 - accuracy: 0.8375\n",
            "Epoch 33/300\n",
            "250/250 [==============================] - 0s 1ms/step - loss: 0.3985 - accuracy: 0.8360\n",
            "Epoch 34/300\n",
            "250/250 [==============================] - 0s 1ms/step - loss: 0.3974 - accuracy: 0.8366\n",
            "Epoch 35/300\n",
            "250/250 [==============================] - 0s 1ms/step - loss: 0.3973 - accuracy: 0.8356\n",
            "Epoch 36/300\n",
            "250/250 [==============================] - 0s 993us/step - loss: 0.3963 - accuracy: 0.8376\n",
            "Epoch 37/300\n",
            "250/250 [==============================] - 0s 975us/step - loss: 0.3960 - accuracy: 0.8344\n",
            "Epoch 38/300\n",
            "250/250 [==============================] - 0s 997us/step - loss: 0.3955 - accuracy: 0.8366\n",
            "Epoch 39/300\n",
            "250/250 [==============================] - 0s 1ms/step - loss: 0.3944 - accuracy: 0.8375\n",
            "Epoch 40/300\n",
            "250/250 [==============================] - 0s 1ms/step - loss: 0.3939 - accuracy: 0.8372\n",
            "Epoch 41/300\n",
            "250/250 [==============================] - 0s 1ms/step - loss: 0.3926 - accuracy: 0.8375\n",
            "Epoch 42/300\n",
            "250/250 [==============================] - 0s 1ms/step - loss: 0.3916 - accuracy: 0.8379\n",
            "Epoch 43/300\n",
            "250/250 [==============================] - 0s 956us/step - loss: 0.3905 - accuracy: 0.8367\n",
            "Epoch 44/300\n",
            "250/250 [==============================] - 0s 1ms/step - loss: 0.3890 - accuracy: 0.8366\n",
            "Epoch 45/300\n",
            "250/250 [==============================] - 0s 1ms/step - loss: 0.3868 - accuracy: 0.8369\n",
            "Epoch 46/300\n",
            "250/250 [==============================] - 0s 992us/step - loss: 0.3854 - accuracy: 0.8354\n",
            "Epoch 47/300\n",
            "250/250 [==============================] - 0s 1ms/step - loss: 0.3834 - accuracy: 0.8365\n",
            "Epoch 48/300\n",
            "250/250 [==============================] - 0s 1ms/step - loss: 0.3815 - accuracy: 0.8394\n",
            "Epoch 49/300\n",
            "250/250 [==============================] - 0s 1ms/step - loss: 0.3788 - accuracy: 0.8410\n",
            "Epoch 50/300\n",
            "250/250 [==============================] - 0s 1ms/step - loss: 0.3756 - accuracy: 0.8439\n",
            "Epoch 51/300\n",
            "250/250 [==============================] - 0s 968us/step - loss: 0.3728 - accuracy: 0.8462\n",
            "Epoch 52/300\n",
            "250/250 [==============================] - 0s 1ms/step - loss: 0.3710 - accuracy: 0.8479\n",
            "Epoch 53/300\n",
            "250/250 [==============================] - 0s 1ms/step - loss: 0.3686 - accuracy: 0.8479\n",
            "Epoch 54/300\n",
            "250/250 [==============================] - 0s 1ms/step - loss: 0.3668 - accuracy: 0.8493\n",
            "Epoch 55/300\n",
            "250/250 [==============================] - 0s 972us/step - loss: 0.3652 - accuracy: 0.8491\n",
            "Epoch 56/300\n",
            "250/250 [==============================] - 0s 991us/step - loss: 0.3643 - accuracy: 0.8503\n",
            "Epoch 57/300\n",
            "250/250 [==============================] - 0s 1ms/step - loss: 0.3624 - accuracy: 0.8509\n",
            "Epoch 58/300\n",
            "250/250 [==============================] - 0s 1ms/step - loss: 0.3617 - accuracy: 0.8516\n",
            "Epoch 59/300\n",
            "250/250 [==============================] - 0s 965us/step - loss: 0.3599 - accuracy: 0.8531\n",
            "Epoch 60/300\n",
            "250/250 [==============================] - 0s 1ms/step - loss: 0.3581 - accuracy: 0.8503\n",
            "Epoch 61/300\n",
            "250/250 [==============================] - 0s 986us/step - loss: 0.3569 - accuracy: 0.8535\n",
            "Epoch 62/300\n",
            "250/250 [==============================] - 0s 1ms/step - loss: 0.3558 - accuracy: 0.8551\n",
            "Epoch 63/300\n",
            "250/250 [==============================] - 0s 988us/step - loss: 0.3546 - accuracy: 0.8547\n",
            "Epoch 64/300\n",
            "250/250 [==============================] - 0s 1ms/step - loss: 0.3530 - accuracy: 0.8556\n",
            "Epoch 65/300\n",
            "250/250 [==============================] - 0s 1ms/step - loss: 0.3517 - accuracy: 0.8571\n",
            "Epoch 66/300\n",
            "250/250 [==============================] - 0s 988us/step - loss: 0.3507 - accuracy: 0.8568\n",
            "Epoch 67/300\n",
            "250/250 [==============================] - 0s 975us/step - loss: 0.3494 - accuracy: 0.8593\n",
            "Epoch 68/300\n",
            "250/250 [==============================] - 0s 1ms/step - loss: 0.3490 - accuracy: 0.8589\n",
            "Epoch 69/300\n",
            "250/250 [==============================] - 0s 940us/step - loss: 0.3478 - accuracy: 0.8587\n",
            "Epoch 70/300\n",
            "250/250 [==============================] - 0s 983us/step - loss: 0.3471 - accuracy: 0.8608\n",
            "Epoch 71/300\n",
            "250/250 [==============================] - 0s 1ms/step - loss: 0.3473 - accuracy: 0.8601\n",
            "Epoch 72/300\n",
            "250/250 [==============================] - 0s 1ms/step - loss: 0.3460 - accuracy: 0.8606\n",
            "Epoch 73/300\n",
            "250/250 [==============================] - 0s 999us/step - loss: 0.3462 - accuracy: 0.8606\n",
            "Epoch 74/300\n",
            "250/250 [==============================] - 0s 1ms/step - loss: 0.3440 - accuracy: 0.8614\n",
            "Epoch 75/300\n",
            "250/250 [==============================] - 0s 981us/step - loss: 0.3441 - accuracy: 0.8625\n",
            "Epoch 76/300\n",
            "250/250 [==============================] - 0s 1ms/step - loss: 0.3455 - accuracy: 0.8594\n",
            "Epoch 77/300\n",
            "250/250 [==============================] - 0s 1ms/step - loss: 0.3445 - accuracy: 0.8606\n",
            "Epoch 78/300\n",
            "250/250 [==============================] - 0s 987us/step - loss: 0.3435 - accuracy: 0.8610\n",
            "Epoch 79/300\n",
            "250/250 [==============================] - 0s 1ms/step - loss: 0.3429 - accuracy: 0.8634\n",
            "Epoch 80/300\n",
            "250/250 [==============================] - 0s 1ms/step - loss: 0.3430 - accuracy: 0.8619\n",
            "Epoch 81/300\n",
            "250/250 [==============================] - 0s 1ms/step - loss: 0.3422 - accuracy: 0.8618\n",
            "Epoch 82/300\n",
            "250/250 [==============================] - 0s 1ms/step - loss: 0.3418 - accuracy: 0.8619\n",
            "Epoch 83/300\n",
            "250/250 [==============================] - 0s 1ms/step - loss: 0.3421 - accuracy: 0.8624\n",
            "Epoch 84/300\n",
            "250/250 [==============================] - 0s 997us/step - loss: 0.3417 - accuracy: 0.8625\n",
            "Epoch 85/300\n",
            "250/250 [==============================] - 0s 1ms/step - loss: 0.3419 - accuracy: 0.8631\n",
            "Epoch 86/300\n",
            "250/250 [==============================] - 0s 990us/step - loss: 0.3406 - accuracy: 0.8601\n",
            "Epoch 87/300\n",
            "250/250 [==============================] - 0s 997us/step - loss: 0.3412 - accuracy: 0.8618\n",
            "Epoch 88/300\n",
            "250/250 [==============================] - 0s 1ms/step - loss: 0.3409 - accuracy: 0.8634\n",
            "Epoch 89/300\n",
            "250/250 [==============================] - 0s 1ms/step - loss: 0.3406 - accuracy: 0.8625\n",
            "Epoch 90/300\n",
            "250/250 [==============================] - 0s 985us/step - loss: 0.3407 - accuracy: 0.8634\n",
            "Epoch 91/300\n",
            "250/250 [==============================] - 0s 1ms/step - loss: 0.3404 - accuracy: 0.8625\n",
            "Epoch 92/300\n",
            "250/250 [==============================] - 0s 1ms/step - loss: 0.3403 - accuracy: 0.8621\n",
            "Epoch 93/300\n",
            "250/250 [==============================] - 0s 1ms/step - loss: 0.3400 - accuracy: 0.8622\n",
            "Epoch 94/300\n",
            "250/250 [==============================] - 0s 1ms/step - loss: 0.3398 - accuracy: 0.8631\n",
            "Epoch 95/300\n",
            "250/250 [==============================] - 0s 976us/step - loss: 0.3399 - accuracy: 0.8635\n",
            "Epoch 96/300\n",
            "250/250 [==============================] - 0s 1ms/step - loss: 0.3394 - accuracy: 0.8619\n",
            "Epoch 97/300\n",
            "250/250 [==============================] - 0s 1ms/step - loss: 0.3390 - accuracy: 0.8625\n",
            "Epoch 98/300\n",
            "250/250 [==============================] - 0s 979us/step - loss: 0.3393 - accuracy: 0.8641\n",
            "Epoch 99/300\n",
            "250/250 [==============================] - 0s 1ms/step - loss: 0.3391 - accuracy: 0.8612\n",
            "Epoch 100/300\n",
            "250/250 [==============================] - 0s 1ms/step - loss: 0.3400 - accuracy: 0.8626\n",
            "Epoch 101/300\n",
            "250/250 [==============================] - 0s 1ms/step - loss: 0.3385 - accuracy: 0.8625\n",
            "Epoch 102/300\n",
            "250/250 [==============================] - 0s 1ms/step - loss: 0.3395 - accuracy: 0.8620\n",
            "Epoch 103/300\n",
            "250/250 [==============================] - 0s 1ms/step - loss: 0.3383 - accuracy: 0.8618\n",
            "Epoch 104/300\n",
            "250/250 [==============================] - 0s 1ms/step - loss: 0.3381 - accuracy: 0.8637\n",
            "Epoch 105/300\n",
            "250/250 [==============================] - 0s 992us/step - loss: 0.3385 - accuracy: 0.8630\n",
            "Epoch 106/300\n",
            "250/250 [==============================] - 0s 1ms/step - loss: 0.3376 - accuracy: 0.8633\n",
            "Epoch 107/300\n",
            "250/250 [==============================] - 0s 987us/step - loss: 0.3387 - accuracy: 0.8619\n",
            "Epoch 108/300\n",
            "250/250 [==============================] - 0s 1ms/step - loss: 0.3391 - accuracy: 0.8620\n",
            "Epoch 109/300\n",
            "250/250 [==============================] - 0s 1ms/step - loss: 0.3386 - accuracy: 0.8624\n",
            "Epoch 110/300\n",
            "250/250 [==============================] - 0s 975us/step - loss: 0.3367 - accuracy: 0.8629\n",
            "Epoch 111/300\n",
            "250/250 [==============================] - 0s 957us/step - loss: 0.3377 - accuracy: 0.8621\n",
            "Epoch 112/300\n",
            "250/250 [==============================] - 0s 1ms/step - loss: 0.3380 - accuracy: 0.8616\n",
            "Epoch 113/300\n",
            "250/250 [==============================] - 0s 999us/step - loss: 0.3364 - accuracy: 0.8625\n",
            "Epoch 114/300\n",
            "250/250 [==============================] - 0s 970us/step - loss: 0.3374 - accuracy: 0.8641\n",
            "Epoch 115/300\n",
            "250/250 [==============================] - 0s 1ms/step - loss: 0.3387 - accuracy: 0.8619\n",
            "Epoch 116/300\n",
            "250/250 [==============================] - 0s 1ms/step - loss: 0.3369 - accuracy: 0.8636\n",
            "Epoch 117/300\n",
            "250/250 [==============================] - 0s 994us/step - loss: 0.3369 - accuracy: 0.8618\n",
            "Epoch 118/300\n",
            "250/250 [==============================] - 0s 996us/step - loss: 0.3367 - accuracy: 0.8630\n",
            "Epoch 119/300\n",
            "250/250 [==============================] - 0s 1ms/step - loss: 0.3371 - accuracy: 0.8626\n",
            "Epoch 120/300\n",
            "250/250 [==============================] - 0s 1ms/step - loss: 0.3369 - accuracy: 0.8639\n",
            "Epoch 121/300\n",
            "250/250 [==============================] - 0s 1ms/step - loss: 0.3368 - accuracy: 0.8645\n",
            "Epoch 122/300\n",
            "250/250 [==============================] - 0s 1ms/step - loss: 0.3375 - accuracy: 0.8640\n",
            "Epoch 123/300\n",
            "250/250 [==============================] - 0s 993us/step - loss: 0.3354 - accuracy: 0.8626\n",
            "Epoch 124/300\n",
            "250/250 [==============================] - 0s 1ms/step - loss: 0.3362 - accuracy: 0.8627\n",
            "Epoch 125/300\n",
            "250/250 [==============================] - 0s 971us/step - loss: 0.3354 - accuracy: 0.8650\n",
            "Epoch 126/300\n",
            "250/250 [==============================] - 0s 998us/step - loss: 0.3361 - accuracy: 0.8635\n",
            "Epoch 127/300\n",
            "250/250 [==============================] - 0s 1ms/step - loss: 0.3360 - accuracy: 0.8637\n",
            "Epoch 128/300\n",
            "250/250 [==============================] - 0s 1ms/step - loss: 0.3358 - accuracy: 0.8622\n",
            "Epoch 129/300\n",
            "250/250 [==============================] - 0s 1ms/step - loss: 0.3352 - accuracy: 0.8634\n",
            "Epoch 130/300\n",
            "250/250 [==============================] - 0s 1ms/step - loss: 0.3357 - accuracy: 0.8640\n",
            "Epoch 131/300\n",
            "250/250 [==============================] - 0s 965us/step - loss: 0.3346 - accuracy: 0.8620\n",
            "Epoch 132/300\n",
            "250/250 [==============================] - 0s 1ms/step - loss: 0.3354 - accuracy: 0.8634\n",
            "Epoch 133/300\n",
            "250/250 [==============================] - 0s 1ms/step - loss: 0.3353 - accuracy: 0.8618\n",
            "Epoch 134/300\n",
            "250/250 [==============================] - 0s 999us/step - loss: 0.3347 - accuracy: 0.8622\n",
            "Epoch 135/300\n",
            "250/250 [==============================] - 0s 996us/step - loss: 0.3342 - accuracy: 0.8627\n",
            "Epoch 136/300\n",
            "250/250 [==============================] - 0s 1ms/step - loss: 0.3341 - accuracy: 0.8643\n",
            "Epoch 137/300\n",
            "250/250 [==============================] - 0s 984us/step - loss: 0.3346 - accuracy: 0.8643\n",
            "Epoch 138/300\n",
            "250/250 [==============================] - 0s 1ms/step - loss: 0.3342 - accuracy: 0.8639\n",
            "Epoch 139/300\n",
            "250/250 [==============================] - 0s 1ms/step - loss: 0.3344 - accuracy: 0.8644\n",
            "Epoch 140/300\n",
            "250/250 [==============================] - 0s 1ms/step - loss: 0.3337 - accuracy: 0.8634\n",
            "Epoch 141/300\n",
            "250/250 [==============================] - 0s 995us/step - loss: 0.3334 - accuracy: 0.8643\n",
            "Epoch 142/300\n",
            "250/250 [==============================] - 0s 996us/step - loss: 0.3333 - accuracy: 0.8644\n",
            "Epoch 143/300\n",
            "250/250 [==============================] - 0s 994us/step - loss: 0.3335 - accuracy: 0.8655\n",
            "Epoch 144/300\n",
            "250/250 [==============================] - 0s 1ms/step - loss: 0.3336 - accuracy: 0.8633\n",
            "Epoch 145/300\n",
            "250/250 [==============================] - 0s 1ms/step - loss: 0.3324 - accuracy: 0.8660\n",
            "Epoch 146/300\n",
            "250/250 [==============================] - 0s 991us/step - loss: 0.3328 - accuracy: 0.8634\n",
            "Epoch 147/300\n",
            "250/250 [==============================] - 0s 1ms/step - loss: 0.3339 - accuracy: 0.8646\n",
            "Epoch 148/300\n",
            "250/250 [==============================] - 0s 1ms/step - loss: 0.3329 - accuracy: 0.8651\n",
            "Epoch 149/300\n",
            "250/250 [==============================] - 0s 972us/step - loss: 0.3333 - accuracy: 0.8645\n",
            "Epoch 150/300\n",
            "250/250 [==============================] - 0s 1ms/step - loss: 0.3328 - accuracy: 0.8637\n",
            "Epoch 151/300\n",
            "250/250 [==============================] - 0s 1ms/step - loss: 0.3327 - accuracy: 0.8645\n",
            "Epoch 152/300\n",
            "250/250 [==============================] - 0s 1ms/step - loss: 0.3324 - accuracy: 0.8633\n",
            "Epoch 153/300\n",
            "250/250 [==============================] - 0s 969us/step - loss: 0.3332 - accuracy: 0.8641\n",
            "Epoch 154/300\n",
            "250/250 [==============================] - 0s 992us/step - loss: 0.3327 - accuracy: 0.8645\n",
            "Epoch 155/300\n",
            "250/250 [==============================] - 0s 1ms/step - loss: 0.3325 - accuracy: 0.8650\n",
            "Epoch 156/300\n",
            "250/250 [==============================] - 0s 991us/step - loss: 0.3313 - accuracy: 0.8637\n",
            "Epoch 157/300\n",
            "250/250 [==============================] - 0s 1ms/step - loss: 0.3314 - accuracy: 0.8648\n",
            "Epoch 158/300\n",
            "250/250 [==============================] - 0s 998us/step - loss: 0.3321 - accuracy: 0.8643\n",
            "Epoch 159/300\n",
            "250/250 [==============================] - 0s 1ms/step - loss: 0.3314 - accuracy: 0.8650\n",
            "Epoch 160/300\n",
            "250/250 [==============================] - 0s 990us/step - loss: 0.3325 - accuracy: 0.8643\n",
            "Epoch 161/300\n",
            "250/250 [==============================] - 0s 956us/step - loss: 0.3316 - accuracy: 0.8626\n",
            "Epoch 162/300\n",
            "250/250 [==============================] - 0s 1ms/step - loss: 0.3310 - accuracy: 0.8637\n",
            "Epoch 163/300\n",
            "250/250 [==============================] - 0s 1ms/step - loss: 0.3314 - accuracy: 0.8630\n",
            "Epoch 164/300\n",
            "250/250 [==============================] - 0s 998us/step - loss: 0.3312 - accuracy: 0.8654\n",
            "Epoch 165/300\n",
            "250/250 [==============================] - 0s 994us/step - loss: 0.3316 - accuracy: 0.8643\n",
            "Epoch 166/300\n",
            "250/250 [==============================] - 0s 963us/step - loss: 0.3319 - accuracy: 0.8634\n",
            "Epoch 167/300\n",
            "250/250 [==============================] - 0s 1ms/step - loss: 0.3314 - accuracy: 0.8646\n",
            "Epoch 168/300\n",
            "250/250 [==============================] - 0s 1ms/step - loss: 0.3315 - accuracy: 0.8637\n",
            "Epoch 169/300\n",
            "250/250 [==============================] - 0s 967us/step - loss: 0.3315 - accuracy: 0.8648\n",
            "Epoch 170/300\n",
            "250/250 [==============================] - 0s 1ms/step - loss: 0.3310 - accuracy: 0.8634\n",
            "Epoch 171/300\n",
            "250/250 [==============================] - 0s 996us/step - loss: 0.3313 - accuracy: 0.8649\n",
            "Epoch 172/300\n",
            "250/250 [==============================] - 0s 1ms/step - loss: 0.3307 - accuracy: 0.8621\n",
            "Epoch 173/300\n",
            "250/250 [==============================] - 0s 1ms/step - loss: 0.3321 - accuracy: 0.8633\n",
            "Epoch 174/300\n",
            "250/250 [==============================] - 0s 1ms/step - loss: 0.3310 - accuracy: 0.8656\n",
            "Epoch 175/300\n",
            "250/250 [==============================] - 0s 1ms/step - loss: 0.3305 - accuracy: 0.8641\n",
            "Epoch 176/300\n",
            "250/250 [==============================] - 0s 992us/step - loss: 0.3318 - accuracy: 0.8631\n",
            "Epoch 177/300\n",
            "250/250 [==============================] - 0s 982us/step - loss: 0.3312 - accuracy: 0.8656\n",
            "Epoch 178/300\n",
            "250/250 [==============================] - 0s 1ms/step - loss: 0.3310 - accuracy: 0.8652\n",
            "Epoch 179/300\n",
            "250/250 [==============================] - 0s 1ms/step - loss: 0.3309 - accuracy: 0.8636\n",
            "Epoch 180/300\n",
            "250/250 [==============================] - 0s 975us/step - loss: 0.3310 - accuracy: 0.8658\n",
            "Epoch 181/300\n",
            "250/250 [==============================] - 0s 987us/step - loss: 0.3310 - accuracy: 0.8643\n",
            "Epoch 182/300\n",
            "250/250 [==============================] - 0s 1ms/step - loss: 0.3315 - accuracy: 0.8643\n",
            "Epoch 183/300\n",
            "250/250 [==============================] - 0s 1ms/step - loss: 0.3308 - accuracy: 0.8636\n",
            "Epoch 184/300\n",
            "250/250 [==============================] - 0s 981us/step - loss: 0.3304 - accuracy: 0.8648\n",
            "Epoch 185/300\n",
            "250/250 [==============================] - 0s 972us/step - loss: 0.3309 - accuracy: 0.8650\n",
            "Epoch 186/300\n",
            "250/250 [==============================] - 0s 1ms/step - loss: 0.3307 - accuracy: 0.8664\n",
            "Epoch 187/300\n",
            "250/250 [==============================] - 0s 980us/step - loss: 0.3309 - accuracy: 0.8649\n",
            "Epoch 188/300\n",
            "250/250 [==============================] - 0s 1ms/step - loss: 0.3310 - accuracy: 0.8662\n",
            "Epoch 189/300\n",
            "250/250 [==============================] - 0s 1ms/step - loss: 0.3305 - accuracy: 0.8637\n",
            "Epoch 190/300\n",
            "250/250 [==============================] - 0s 992us/step - loss: 0.3305 - accuracy: 0.8655\n",
            "Epoch 191/300\n",
            "250/250 [==============================] - 0s 974us/step - loss: 0.3302 - accuracy: 0.8637\n",
            "Epoch 192/300\n",
            "250/250 [==============================] - 0s 999us/step - loss: 0.3309 - accuracy: 0.8636\n",
            "Epoch 193/300\n",
            "250/250 [==============================] - 0s 974us/step - loss: 0.3310 - accuracy: 0.8631\n",
            "Epoch 194/300\n",
            "250/250 [==============================] - 0s 1ms/step - loss: 0.3308 - accuracy: 0.8635\n",
            "Epoch 195/300\n",
            "250/250 [==============================] - 0s 1ms/step - loss: 0.3298 - accuracy: 0.8634\n",
            "Epoch 196/300\n",
            "250/250 [==============================] - 0s 968us/step - loss: 0.3309 - accuracy: 0.8631\n",
            "Epoch 197/300\n",
            "250/250 [==============================] - 0s 998us/step - loss: 0.3306 - accuracy: 0.8655\n",
            "Epoch 198/300\n",
            "250/250 [==============================] - 0s 1ms/step - loss: 0.3306 - accuracy: 0.8620\n",
            "Epoch 199/300\n",
            "250/250 [==============================] - 0s 1ms/step - loss: 0.3303 - accuracy: 0.8643\n",
            "Epoch 200/300\n",
            "250/250 [==============================] - 0s 980us/step - loss: 0.3304 - accuracy: 0.8646\n",
            "Epoch 201/300\n",
            "250/250 [==============================] - 0s 987us/step - loss: 0.3311 - accuracy: 0.8646\n",
            "Epoch 202/300\n",
            "250/250 [==============================] - 0s 1ms/step - loss: 0.3299 - accuracy: 0.8648\n",
            "Epoch 203/300\n",
            "250/250 [==============================] - 0s 985us/step - loss: 0.3313 - accuracy: 0.8639\n",
            "Epoch 204/300\n",
            "250/250 [==============================] - 0s 1ms/step - loss: 0.3302 - accuracy: 0.8646\n",
            "Epoch 205/300\n",
            "250/250 [==============================] - 0s 1ms/step - loss: 0.3306 - accuracy: 0.8651\n",
            "Epoch 206/300\n",
            "250/250 [==============================] - 0s 1ms/step - loss: 0.3308 - accuracy: 0.8636\n",
            "Epoch 207/300\n",
            "250/250 [==============================] - 0s 995us/step - loss: 0.3303 - accuracy: 0.8648\n",
            "Epoch 208/300\n",
            "250/250 [==============================] - 0s 950us/step - loss: 0.3300 - accuracy: 0.8644\n",
            "Epoch 209/300\n",
            "250/250 [==============================] - 0s 984us/step - loss: 0.3299 - accuracy: 0.8655\n",
            "Epoch 210/300\n",
            "250/250 [==============================] - 0s 1ms/step - loss: 0.3312 - accuracy: 0.8660\n",
            "Epoch 211/300\n",
            "250/250 [==============================] - 0s 999us/step - loss: 0.3299 - accuracy: 0.8668\n",
            "Epoch 212/300\n",
            "250/250 [==============================] - 0s 958us/step - loss: 0.3296 - accuracy: 0.8651\n",
            "Epoch 213/300\n",
            "250/250 [==============================] - 0s 987us/step - loss: 0.3300 - accuracy: 0.8644\n",
            "Epoch 214/300\n",
            "250/250 [==============================] - 0s 1ms/step - loss: 0.3307 - accuracy: 0.8650\n",
            "Epoch 215/300\n",
            "250/250 [==============================] - 0s 1ms/step - loss: 0.3300 - accuracy: 0.8634\n",
            "Epoch 216/300\n",
            "250/250 [==============================] - 0s 1ms/step - loss: 0.3306 - accuracy: 0.8640\n",
            "Epoch 217/300\n",
            "250/250 [==============================] - 0s 1ms/step - loss: 0.3307 - accuracy: 0.8650\n",
            "Epoch 218/300\n",
            "250/250 [==============================] - 0s 1ms/step - loss: 0.3297 - accuracy: 0.8651\n",
            "Epoch 219/300\n",
            "250/250 [==============================] - 0s 1ms/step - loss: 0.3294 - accuracy: 0.8656\n",
            "Epoch 220/300\n",
            "250/250 [==============================] - 0s 1ms/step - loss: 0.3295 - accuracy: 0.8643\n",
            "Epoch 221/300\n",
            "250/250 [==============================] - 0s 1ms/step - loss: 0.3302 - accuracy: 0.8634\n",
            "Epoch 222/300\n",
            "250/250 [==============================] - 0s 995us/step - loss: 0.3301 - accuracy: 0.8649\n",
            "Epoch 223/300\n",
            "250/250 [==============================] - 0s 976us/step - loss: 0.3296 - accuracy: 0.8640\n",
            "Epoch 224/300\n",
            "250/250 [==============================] - 0s 1ms/step - loss: 0.3293 - accuracy: 0.8631\n",
            "Epoch 225/300\n",
            "250/250 [==============================] - 0s 1ms/step - loss: 0.3299 - accuracy: 0.8650\n",
            "Epoch 226/300\n",
            "250/250 [==============================] - 0s 989us/step - loss: 0.3302 - accuracy: 0.8661\n",
            "Epoch 227/300\n",
            "250/250 [==============================] - 0s 975us/step - loss: 0.3301 - accuracy: 0.8640\n",
            "Epoch 228/300\n",
            "250/250 [==============================] - 0s 988us/step - loss: 0.3285 - accuracy: 0.8633\n",
            "Epoch 229/300\n",
            "250/250 [==============================] - 0s 1ms/step - loss: 0.3303 - accuracy: 0.8639\n",
            "Epoch 230/300\n",
            "250/250 [==============================] - 0s 984us/step - loss: 0.3296 - accuracy: 0.8643\n",
            "Epoch 231/300\n",
            "250/250 [==============================] - 0s 960us/step - loss: 0.3300 - accuracy: 0.8654\n",
            "Epoch 232/300\n",
            "250/250 [==============================] - 0s 991us/step - loss: 0.3287 - accuracy: 0.8646\n",
            "Epoch 233/300\n",
            "250/250 [==============================] - 0s 1ms/step - loss: 0.3306 - accuracy: 0.8640\n",
            "Epoch 234/300\n",
            "250/250 [==============================] - 0s 1ms/step - loss: 0.3302 - accuracy: 0.8655\n",
            "Epoch 235/300\n",
            "250/250 [==============================] - 0s 993us/step - loss: 0.3301 - accuracy: 0.8635\n",
            "Epoch 236/300\n",
            "250/250 [==============================] - 0s 1ms/step - loss: 0.3303 - accuracy: 0.8649\n",
            "Epoch 237/300\n",
            "250/250 [==============================] - 0s 1ms/step - loss: 0.3293 - accuracy: 0.8650\n",
            "Epoch 238/300\n",
            "250/250 [==============================] - 0s 998us/step - loss: 0.3303 - accuracy: 0.8643\n",
            "Epoch 239/300\n",
            "250/250 [==============================] - 0s 1ms/step - loss: 0.3294 - accuracy: 0.8637\n",
            "Epoch 240/300\n",
            "250/250 [==============================] - 0s 1ms/step - loss: 0.3294 - accuracy: 0.8659\n",
            "Epoch 241/300\n",
            "250/250 [==============================] - 0s 1ms/step - loss: 0.3292 - accuracy: 0.8639\n",
            "Epoch 242/300\n",
            "250/250 [==============================] - 0s 1ms/step - loss: 0.3300 - accuracy: 0.8630\n",
            "Epoch 243/300\n",
            "250/250 [==============================] - 0s 1ms/step - loss: 0.3294 - accuracy: 0.8644\n",
            "Epoch 244/300\n",
            "250/250 [==============================] - 0s 969us/step - loss: 0.3300 - accuracy: 0.8640\n",
            "Epoch 245/300\n",
            "250/250 [==============================] - 0s 995us/step - loss: 0.3302 - accuracy: 0.8641\n",
            "Epoch 246/300\n",
            "250/250 [==============================] - 0s 998us/step - loss: 0.3300 - accuracy: 0.8636\n",
            "Epoch 247/300\n",
            "250/250 [==============================] - 0s 1ms/step - loss: 0.3311 - accuracy: 0.8651\n",
            "Epoch 248/300\n",
            "250/250 [==============================] - 0s 1ms/step - loss: 0.3293 - accuracy: 0.8636\n",
            "Epoch 249/300\n",
            "250/250 [==============================] - 0s 1ms/step - loss: 0.3292 - accuracy: 0.8641\n",
            "Epoch 250/300\n",
            "250/250 [==============================] - 0s 1ms/step - loss: 0.3302 - accuracy: 0.8645\n",
            "Epoch 251/300\n",
            "250/250 [==============================] - 0s 999us/step - loss: 0.3295 - accuracy: 0.8634\n",
            "Epoch 252/300\n",
            "250/250 [==============================] - 0s 1ms/step - loss: 0.3314 - accuracy: 0.8640\n",
            "Epoch 253/300\n",
            "250/250 [==============================] - 0s 1ms/step - loss: 0.3296 - accuracy: 0.8636\n",
            "Epoch 254/300\n",
            "250/250 [==============================] - 0s 966us/step - loss: 0.3284 - accuracy: 0.8662\n",
            "Epoch 255/300\n",
            "250/250 [==============================] - 0s 970us/step - loss: 0.3286 - accuracy: 0.8660\n",
            "Epoch 256/300\n",
            "250/250 [==============================] - 0s 1ms/step - loss: 0.3294 - accuracy: 0.8655\n",
            "Epoch 257/300\n",
            "250/250 [==============================] - 0s 981us/step - loss: 0.3297 - accuracy: 0.8650\n",
            "Epoch 258/300\n",
            "250/250 [==============================] - 0s 957us/step - loss: 0.3299 - accuracy: 0.8636\n",
            "Epoch 259/300\n",
            "250/250 [==============================] - 0s 1ms/step - loss: 0.3283 - accuracy: 0.8650\n",
            "Epoch 260/300\n",
            "250/250 [==============================] - 0s 1ms/step - loss: 0.3294 - accuracy: 0.8636\n",
            "Epoch 261/300\n",
            "250/250 [==============================] - 0s 985us/step - loss: 0.3309 - accuracy: 0.8631\n",
            "Epoch 262/300\n",
            "250/250 [==============================] - 0s 1ms/step - loss: 0.3302 - accuracy: 0.8641\n",
            "Epoch 263/300\n",
            "250/250 [==============================] - 0s 1ms/step - loss: 0.3302 - accuracy: 0.8639\n",
            "Epoch 264/300\n",
            "250/250 [==============================] - 0s 1ms/step - loss: 0.3288 - accuracy: 0.8649\n",
            "Epoch 265/300\n",
            "250/250 [==============================] - 0s 972us/step - loss: 0.3294 - accuracy: 0.8640\n",
            "Epoch 266/300\n",
            "250/250 [==============================] - 0s 997us/step - loss: 0.3298 - accuracy: 0.8655\n",
            "Epoch 267/300\n",
            "250/250 [==============================] - 0s 1ms/step - loss: 0.3289 - accuracy: 0.8658\n",
            "Epoch 268/300\n",
            "250/250 [==============================] - 0s 998us/step - loss: 0.3295 - accuracy: 0.8640\n",
            "Epoch 269/300\n",
            "250/250 [==============================] - 0s 1ms/step - loss: 0.3298 - accuracy: 0.8648\n",
            "Epoch 270/300\n",
            "250/250 [==============================] - 0s 963us/step - loss: 0.3283 - accuracy: 0.8658\n",
            "Epoch 271/300\n",
            "250/250 [==============================] - 0s 964us/step - loss: 0.3301 - accuracy: 0.8637\n",
            "Epoch 272/300\n",
            "250/250 [==============================] - 0s 991us/step - loss: 0.3289 - accuracy: 0.8651\n",
            "Epoch 273/300\n",
            "250/250 [==============================] - 0s 994us/step - loss: 0.3286 - accuracy: 0.8656\n",
            "Epoch 274/300\n",
            "250/250 [==============================] - 0s 999us/step - loss: 0.3291 - accuracy: 0.8673\n",
            "Epoch 275/300\n",
            "250/250 [==============================] - 0s 1ms/step - loss: 0.3291 - accuracy: 0.8654\n",
            "Epoch 276/300\n",
            "250/250 [==============================] - 0s 1ms/step - loss: 0.3286 - accuracy: 0.8645\n",
            "Epoch 277/300\n",
            "250/250 [==============================] - 0s 1ms/step - loss: 0.3304 - accuracy: 0.8635\n",
            "Epoch 278/300\n",
            "250/250 [==============================] - 0s 1ms/step - loss: 0.3290 - accuracy: 0.8635\n",
            "Epoch 279/300\n",
            "250/250 [==============================] - 0s 1ms/step - loss: 0.3293 - accuracy: 0.8637\n",
            "Epoch 280/300\n",
            "250/250 [==============================] - 0s 1ms/step - loss: 0.3298 - accuracy: 0.8643\n",
            "Epoch 281/300\n",
            "250/250 [==============================] - 0s 991us/step - loss: 0.3290 - accuracy: 0.8650\n",
            "Epoch 282/300\n",
            "250/250 [==============================] - 0s 993us/step - loss: 0.3289 - accuracy: 0.8648\n",
            "Epoch 283/300\n",
            "250/250 [==============================] - 0s 978us/step - loss: 0.3314 - accuracy: 0.8662\n",
            "Epoch 284/300\n",
            "250/250 [==============================] - 0s 1ms/step - loss: 0.3290 - accuracy: 0.8662\n",
            "Epoch 285/300\n",
            "250/250 [==============================] - 0s 1ms/step - loss: 0.3283 - accuracy: 0.8654\n",
            "Epoch 286/300\n",
            "250/250 [==============================] - 0s 1ms/step - loss: 0.3292 - accuracy: 0.8629\n",
            "Epoch 287/300\n",
            "250/250 [==============================] - 0s 1ms/step - loss: 0.3288 - accuracy: 0.8645\n",
            "Epoch 288/300\n",
            "250/250 [==============================] - 0s 1ms/step - loss: 0.3286 - accuracy: 0.8658\n",
            "Epoch 289/300\n",
            "250/250 [==============================] - 0s 965us/step - loss: 0.3297 - accuracy: 0.8648\n",
            "Epoch 290/300\n",
            "250/250 [==============================] - 0s 1ms/step - loss: 0.3296 - accuracy: 0.8661\n",
            "Epoch 291/300\n",
            "250/250 [==============================] - 0s 945us/step - loss: 0.3281 - accuracy: 0.8661\n",
            "Epoch 292/300\n",
            "250/250 [==============================] - 0s 1ms/step - loss: 0.3290 - accuracy: 0.8664\n",
            "Epoch 293/300\n",
            "250/250 [==============================] - 0s 1ms/step - loss: 0.3293 - accuracy: 0.8650\n",
            "Epoch 294/300\n",
            "250/250 [==============================] - 0s 983us/step - loss: 0.3299 - accuracy: 0.8668\n",
            "Epoch 295/300\n",
            "250/250 [==============================] - 0s 970us/step - loss: 0.3289 - accuracy: 0.8643\n",
            "Epoch 296/300\n",
            "250/250 [==============================] - 0s 1ms/step - loss: 0.3288 - accuracy: 0.8645\n",
            "Epoch 297/300\n",
            "250/250 [==============================] - 0s 1ms/step - loss: 0.3300 - accuracy: 0.8645\n",
            "Epoch 298/300\n",
            "250/250 [==============================] - 0s 1ms/step - loss: 0.3298 - accuracy: 0.8652\n",
            "Epoch 299/300\n",
            "250/250 [==============================] - 0s 1ms/step - loss: 0.3289 - accuracy: 0.8658\n",
            "Epoch 300/300\n",
            "250/250 [==============================] - 0s 971us/step - loss: 0.3285 - accuracy: 0.8652\n"
          ],
          "name": "stdout"
        },
        {
          "output_type": "execute_result",
          "data": {
            "text/plain": [
              "<tensorflow.python.keras.callbacks.History at 0x7fbd4213f860>"
            ]
          },
          "metadata": {
            "tags": []
          },
          "execution_count": 13
        }
      ]
    },
    {
      "cell_type": "markdown",
      "metadata": {
        "id": "V4lcKvxSqW8I",
        "colab_type": "text"
      },
      "source": [
        "### <u>Checking the performance by comparing the predicted and actual results</u>"
      ]
    },
    {
      "cell_type": "code",
      "metadata": {
        "id": "jKwbY1OH6nRp",
        "colab_type": "code",
        "colab": {}
      },
      "source": [
        "y_pred = ann.predict(X_test)"
      ],
      "execution_count": 14,
      "outputs": []
    },
    {
      "cell_type": "code",
      "metadata": {
        "id": "A79V4qtz64-V",
        "colab_type": "code",
        "colab": {}
      },
      "source": [
        "y_test = np.array(y_test).reshape(-1,1)"
      ],
      "execution_count": 15,
      "outputs": []
    },
    {
      "cell_type": "code",
      "metadata": {
        "id": "lyM1jj7765CE",
        "colab_type": "code",
        "colab": {
          "base_uri": "https://localhost:8080/",
          "height": 34
        },
        "outputId": "142a55bd-d325-4c35-f20c-ef46bfae028d"
      },
      "source": [
        "y_pred[:].shape"
      ],
      "execution_count": 16,
      "outputs": [
        {
          "output_type": "execute_result",
          "data": {
            "text/plain": [
              "(2000, 1)"
            ]
          },
          "metadata": {
            "tags": []
          },
          "execution_count": 16
        }
      ]
    },
    {
      "cell_type": "markdown",
      "metadata": {
        "id": "X5TiHKd5qjiL",
        "colab_type": "text"
      },
      "source": [
        "##### As the resultant values are between 0 and 1 (due to the sigmoid activation function), we have to define a threshold to convert a value to either 0 or 1."
      ]
    },
    {
      "cell_type": "code",
      "metadata": {
        "id": "jHfOn73jF_29",
        "colab_type": "code",
        "colab": {
          "base_uri": "https://localhost:8080/",
          "height": 1000
        },
        "outputId": "6722ff45-b807-42fb-bcf3-47f272c46177"
      },
      "source": [
        "from sklearn.preprocessing import binarize\n",
        "from sklearn.metrics import confusion_matrix\n",
        "from sklearn.metrics import accuracy_score,f1_score\n",
        "for i in range(1,11):\n",
        "    y_pred2=binarize(y_pred,i/10)[:]\n",
        "    cm2=confusion_matrix(y_test,y_pred2)\n",
        "    print ('With',i/10,'threshold the Confusion Matrix is ','\\n',cm2,'\\n',\n",
        "            'with',cm2[0,0]+cm2[1,1],'correct predictions and',cm2[1,0],'Type II errors( False Negatives)','\\n\\n',\n",
        "          'Sensitivity: ',cm2[1,1]/(float(cm2[1,1]+cm2[1,0])),'Specificity: ',cm2[0,0]/(float(cm2[0,0]+cm2[0,1])),'\\n\\n\\n')\n",
        "    print('The accuracy score is: ',accuracy_score(y_test,y_pred2))\n",
        "    print('The f1 score is: ',f1_score(y_test,y_pred2))\n",
        "    print('\\n')"
      ],
      "execution_count": 20,
      "outputs": [
        {
          "output_type": "stream",
          "text": [
            "With 0.1 threshold the Confusion Matrix is  \n",
            " [[881 726]\n",
            " [ 41 352]] \n",
            " with 1233 correct predictions and 41 Type II errors( False Negatives) \n",
            "\n",
            " Sensitivity:  0.8956743002544529 Specificity:  0.5482265090230243 \n",
            "\n",
            "\n",
            "\n",
            "The accuracy score is:  0.6165\n",
            "The f1 score is:  0.4785859959211421\n",
            "\n",
            "\n",
            "With 0.2 threshold the Confusion Matrix is  \n",
            " [[1220  387]\n",
            " [  82  311]] \n",
            " with 1531 correct predictions and 82 Type II errors( False Negatives) \n",
            "\n",
            " Sensitivity:  0.7913486005089059 Specificity:  0.7591785936527692 \n",
            "\n",
            "\n",
            "\n",
            "The accuracy score is:  0.7655\n",
            "The f1 score is:  0.5701191567369387\n",
            "\n",
            "\n",
            "With 0.3 threshold the Confusion Matrix is  \n",
            " [[1405  202]\n",
            " [ 132  261]] \n",
            " with 1666 correct predictions and 132 Type II errors( False Negatives) \n",
            "\n",
            " Sensitivity:  0.6641221374045801 Specificity:  0.8742999377722465 \n",
            "\n",
            "\n",
            "\n",
            "The accuracy score is:  0.833\n",
            "The f1 score is:  0.6098130841121495\n",
            "\n",
            "\n",
            "With 0.4 threshold the Confusion Matrix is  \n",
            " [[1493  114]\n",
            " [ 189  204]] \n",
            " with 1697 correct predictions and 189 Type II errors( False Negatives) \n",
            "\n",
            " Sensitivity:  0.5190839694656488 Specificity:  0.9290603609209708 \n",
            "\n",
            "\n",
            "\n",
            "The accuracy score is:  0.8485\n",
            "The f1 score is:  0.5738396624472574\n",
            "\n",
            "\n",
            "With 0.5 threshold the Confusion Matrix is  \n",
            " [[1551   56]\n",
            " [ 216  177]] \n",
            " with 1728 correct predictions and 216 Type II errors( False Negatives) \n",
            "\n",
            " Sensitivity:  0.45038167938931295 Specificity:  0.9651524579962664 \n",
            "\n",
            "\n",
            "\n",
            "The accuracy score is:  0.864\n",
            "The f1 score is:  0.5654952076677315\n",
            "\n",
            "\n",
            "With 0.6 threshold the Confusion Matrix is  \n",
            " [[1577   30]\n",
            " [ 243  150]] \n",
            " with 1727 correct predictions and 243 Type II errors( False Negatives) \n",
            "\n",
            " Sensitivity:  0.3816793893129771 Specificity:  0.9813316739265713 \n",
            "\n",
            "\n",
            "\n",
            "The accuracy score is:  0.8635\n",
            "The f1 score is:  0.5235602094240838\n",
            "\n",
            "\n",
            "With 0.7 threshold the Confusion Matrix is  \n",
            " [[1587   20]\n",
            " [ 270  123]] \n",
            " with 1710 correct predictions and 270 Type II errors( False Negatives) \n",
            "\n",
            " Sensitivity:  0.31297709923664124 Specificity:  0.9875544492843809 \n",
            "\n",
            "\n",
            "\n",
            "The accuracy score is:  0.855\n",
            "The f1 score is:  0.458955223880597\n",
            "\n",
            "\n",
            "With 0.8 threshold the Confusion Matrix is  \n",
            " [[1593   14]\n",
            " [ 290  103]] \n",
            " with 1696 correct predictions and 290 Type II errors( False Negatives) \n",
            "\n",
            " Sensitivity:  0.26208651399491095 Specificity:  0.9912881144990666 \n",
            "\n",
            "\n",
            "\n",
            "The accuracy score is:  0.848\n",
            "The f1 score is:  0.403921568627451\n",
            "\n",
            "\n",
            "With 0.9 threshold the Confusion Matrix is  \n",
            " [[1600    7]\n",
            " [ 314   79]] \n",
            " with 1679 correct predictions and 314 Type II errors( False Negatives) \n",
            "\n",
            " Sensitivity:  0.2010178117048346 Specificity:  0.9956440572495333 \n",
            "\n",
            "\n",
            "\n",
            "The accuracy score is:  0.8395\n",
            "The f1 score is:  0.3298538622129436\n",
            "\n",
            "\n",
            "With 1.0 threshold the Confusion Matrix is  \n",
            " [[1607    0]\n",
            " [ 393    0]] \n",
            " with 1607 correct predictions and 393 Type II errors( False Negatives) \n",
            "\n",
            " Sensitivity:  0.0 Specificity:  1.0 \n",
            "\n",
            "\n",
            "\n",
            "The accuracy score is:  0.8035\n",
            "The f1 score is:  0.0\n",
            "\n",
            "\n"
          ],
          "name": "stdout"
        }
      ]
    },
    {
      "cell_type": "markdown",
      "metadata": {
        "id": "MGfke22kq2fa",
        "colab_type": "text"
      },
      "source": [
        "Threshold of 0.5 yields the best result. Hence,\n",
        "- [values >= 0.5] = 1 \n",
        "- [values < 0.5] = 0\n",
        "\n",
        "The resultant values can be used as the predicted output from the model."
      ]
    },
    {
      "cell_type": "code",
      "metadata": {
        "id": "s7xvLrW7nyud",
        "colab_type": "code",
        "colab": {}
      },
      "source": [
        "y_pred2=binarize(y_pred,0.5)[:]"
      ],
      "execution_count": 35,
      "outputs": []
    },
    {
      "cell_type": "code",
      "metadata": {
        "id": "-f5g4ZR16mlE",
        "colab_type": "code",
        "colab": {
          "base_uri": "https://localhost:8080/",
          "height": 80
        },
        "outputId": "03c0e9ee-1716-48a2-bbee-0d1643b26ad7"
      },
      "source": [
        "df.head(1)"
      ],
      "execution_count": 26,
      "outputs": [
        {
          "output_type": "execute_result",
          "data": {
            "text/html": [
              "<div>\n",
              "<style scoped>\n",
              "    .dataframe tbody tr th:only-of-type {\n",
              "        vertical-align: middle;\n",
              "    }\n",
              "\n",
              "    .dataframe tbody tr th {\n",
              "        vertical-align: top;\n",
              "    }\n",
              "\n",
              "    .dataframe thead th {\n",
              "        text-align: right;\n",
              "    }\n",
              "</style>\n",
              "<table border=\"1\" class=\"dataframe\">\n",
              "  <thead>\n",
              "    <tr style=\"text-align: right;\">\n",
              "      <th></th>\n",
              "      <th>RowNumber</th>\n",
              "      <th>CustomerId</th>\n",
              "      <th>Surname</th>\n",
              "      <th>CreditScore</th>\n",
              "      <th>Geography</th>\n",
              "      <th>Gender</th>\n",
              "      <th>Age</th>\n",
              "      <th>Tenure</th>\n",
              "      <th>Balance</th>\n",
              "      <th>NumOfProducts</th>\n",
              "      <th>HasCrCard</th>\n",
              "      <th>IsActiveMember</th>\n",
              "      <th>EstimatedSalary</th>\n",
              "      <th>Exited</th>\n",
              "    </tr>\n",
              "  </thead>\n",
              "  <tbody>\n",
              "    <tr>\n",
              "      <th>0</th>\n",
              "      <td>1</td>\n",
              "      <td>15634602</td>\n",
              "      <td>Hargrave</td>\n",
              "      <td>619</td>\n",
              "      <td>France</td>\n",
              "      <td>Female</td>\n",
              "      <td>42</td>\n",
              "      <td>2</td>\n",
              "      <td>0.0</td>\n",
              "      <td>1</td>\n",
              "      <td>1</td>\n",
              "      <td>1</td>\n",
              "      <td>101348.88</td>\n",
              "      <td>1</td>\n",
              "    </tr>\n",
              "  </tbody>\n",
              "</table>\n",
              "</div>"
            ],
            "text/plain": [
              "   RowNumber  CustomerId   Surname  ...  IsActiveMember EstimatedSalary Exited\n",
              "0          1    15634602  Hargrave  ...               1       101348.88      1\n",
              "\n",
              "[1 rows x 14 columns]"
            ]
          },
          "metadata": {
            "tags": []
          },
          "execution_count": 26
        }
      ]
    },
    {
      "cell_type": "code",
      "metadata": {
        "id": "nMIqdGiU61DU",
        "colab_type": "code",
        "colab": {
          "base_uri": "https://localhost:8080/",
          "height": 68
        },
        "outputId": "4e49e92b-97c5-46ef-be06-4536d2c10e2a"
      },
      "source": [
        "X_test[0]"
      ],
      "execution_count": 24,
      "outputs": [
        {
          "output_type": "execute_result",
          "data": {
            "text/plain": [
              "array([-0.57749609,  0.91324755, -0.6557859 , -0.69539349,  0.32993735,\n",
              "        0.80843615, -1.54035103, -1.02583358, -1.01960511, -0.99850112,\n",
              "        1.72572313, -0.57638802])"
            ]
          },
          "metadata": {
            "tags": []
          },
          "execution_count": 24
        }
      ]
    },
    {
      "cell_type": "markdown",
      "metadata": {
        "id": "0KmUr3pRrxPG",
        "colab_type": "text"
      },
      "source": [
        "### Checking with the customer details, whether the customer will churn or not!"
      ]
    },
    {
      "cell_type": "code",
      "metadata": {
        "id": "KCidFfA5nb2Y",
        "colab_type": "code",
        "colab": {}
      },
      "source": [
        "result = ann.predict(sc.transform([[600,0,40,3,60000,2,1,1,50000,1,0,0]]))"
      ],
      "execution_count": 36,
      "outputs": []
    },
    {
      "cell_type": "code",
      "metadata": {
        "id": "KtsaHag6oadC",
        "colab_type": "code",
        "colab": {}
      },
      "source": [
        "result_=binarize(result,0.5)[:]"
      ],
      "execution_count": 37,
      "outputs": []
    },
    {
      "cell_type": "code",
      "metadata": {
        "id": "SDO14kC1oya-",
        "colab_type": "code",
        "colab": {
          "base_uri": "https://localhost:8080/",
          "height": 34
        },
        "outputId": "232e86f5-e8fa-471a-b60e-1f8e8ea375c8"
      },
      "source": [
        "result_"
      ],
      "execution_count": 38,
      "outputs": [
        {
          "output_type": "execute_result",
          "data": {
            "text/plain": [
              "array([[0.]], dtype=float32)"
            ]
          },
          "metadata": {
            "tags": []
          },
          "execution_count": 38
        }
      ]
    },
    {
      "cell_type": "code",
      "metadata": {
        "id": "bcpFYrREozfG",
        "colab_type": "code",
        "colab": {
          "base_uri": "https://localhost:8080/",
          "height": 34
        },
        "outputId": "7acd13cb-b661-412d-db3a-4932b4421f3a"
      },
      "source": [
        "print(\"As the value of the prediction is \",int(result_[0]),\" we can retain the customer as he is not likely to switch\")"
      ],
      "execution_count": 34,
      "outputs": [
        {
          "output_type": "stream",
          "text": [
            "As the value of the prediction is  0  we can retain the customer as he is not likely to switch\n"
          ],
          "name": "stdout"
        }
      ]
    },
    {
      "cell_type": "markdown",
      "metadata": {
        "id": "_2hykZ_UsCE3",
        "colab_type": "text"
      },
      "source": [
        "#### The number of layers and the number of neuron per layer depends on the problem and in this case, utilizing more number of Layers resulted in the model Over fitting to the Training data."
      ]
    },
    {
      "cell_type": "code",
      "metadata": {
        "id": "Is_OG8oopGXw",
        "colab_type": "code",
        "colab": {}
      },
      "source": [
        ""
      ],
      "execution_count": null,
      "outputs": []
    }
  ]
}